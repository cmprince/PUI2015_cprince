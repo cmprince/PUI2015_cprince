{
 "cells": [
  {
   "cell_type": "markdown",
   "metadata": {
    "collapsed": true
   },
   "source": [
    "#Assignment 3:\n",
    "    test if the distribution of ages can be modelled by a Gaussian\n",
    "    \n",
    "    1) all riders\n",
    "    \n",
    "    2) summer riders vs winder riders\n",
    "    \n",
    "    use 2 tests, you can use KS, AD, or get creative. use KL or chi2 like you did in Assignment2 or perhaps new ones!\n",
    "    \n",
    "    CHALLANGE! look for a better distribution to fit the data! see notes on how to input a number of different \n",
    "    distributions into the test, not just 'norm' and the few others available by keyword"
   ]
  },
  {
   "cell_type": "markdown",
   "metadata": {},
   "source": [
    "my usual imports and setups"
   ]
  },
  {
   "cell_type": "code",
   "execution_count": 1,
   "metadata": {
    "collapsed": false,
    "scrolled": true
   },
   "outputs": [
    {
     "name": "stdout",
     "output_type": "stream",
     "text": [
      "Populating the interactive namespace from numpy and matplotlib\n"
     ]
    }
   ],
   "source": [
    "import pylab as pl\n",
    "import pandas as pd\n",
    "import numpy as np\n",
    "import zipfile as zf\n",
    "%pylab inline\n",
    "\n",
    "import os\n",
    "'''\n",
    "#this makes my plots pretty! but it is totally not mandatory to do it\n",
    "import json\n",
    "s = json.load( open(os.getenv ('PUI2015')+\"/fbb_matplotlibrc.json\") )\n",
    "pl.rcParams.update(s)\n",
    "'''\n",
    "#i know i will use scipy for the tests\n",
    "import scipy.stats"
   ]
  },
  {
   "cell_type": "markdown",
   "metadata": {},
   "source": [
    "Load one year's worth of data. We load every nth line (set below). I don't suspect any periodicity in the data, especially on the timescale between entries in the data, so choosing every nth is convenient and keeps the scale of the data in the files (instead of choosing a set number from every data set).\n"
   ]
  },
  {
   "cell_type": "code",
   "execution_count": 5,
   "metadata": {
    "collapsed": false,
    "scrolled": false
   },
   "outputs": [
    {
     "name": "stdout",
     "output_type": "stream",
     "text": [
      "201507-citibike-tripdata.zip\n",
      "201502-citibike-tripdata.zip\n",
      "201503-citibike-tripdata.zip\n",
      "201411-citibike-tripdata.zip\n",
      "201410-citibike-tripdata.zip\n",
      "201501-citibike-tripdata.zip\n",
      "201509-citibike-tripdata.zip\n",
      "201506-citibike-tripdata.zip\n",
      "201505-citibike-tripdata.zip\n",
      "201508-citibike-tripdata.zip\n",
      "201412-citibike-tripdata.zip\n",
      "201504-citibike-tripdata.zip\n"
     ]
    }
   ],
   "source": [
    "cbcols = ['birth year', 'gender', 'usertype', 'starttime']\n",
    "df=pd.DataFrame()\n",
    "#every_nth = 100   #debug line\n",
    "every_nth = 10\n",
    "\n",
    "for directory, subdirectories, files in os.walk(os.getenv ('PUI2015')+'/citibikes/data'):\n",
    "    for f in files:\n",
    "        print f   #debug line\n",
    "        mypath=os.path.join(directory, f)\n",
    "        with zf.ZipFile(mypath, 'r') as z:    \n",
    "            frame=pd.read_csv(z.open(z.namelist()[0]), usecols = cbcols, iterator=True, chunksize=10000)\n",
    "        for chunk in frame:\n",
    "            reduced=chunk[::every_nth]\n",
    "            df=pd.concat([df, reduced], ignore_index=True)"
   ]
  },
  {
   "cell_type": "code",
   "execution_count": 6,
   "metadata": {
    "collapsed": false
   },
   "outputs": [
    {
     "data": {
      "text/plain": [
       "86918"
      ]
     },
     "execution_count": 6,
     "metadata": {},
     "output_type": "execute_result"
    }
   ],
   "source": [
    "len(df)"
   ]
  },
  {
   "cell_type": "markdown",
   "metadata": {
    "collapsed": false
   },
   "source": [
    "Seasons of 2014/5:\n",
    "* WINTER SOLSTICE \tDecember 21\n",
    "* SPRING EQUINOX \tMarch 20\n",
    "* SUMMER SOLSTICE \tJune 21\n",
    "* FALL EQUINOX \tSeptember 23\n",
    "\n",
    "Add columns for date and age:"
   ]
  },
  {
   "cell_type": "code",
   "execution_count": 7,
   "metadata": {
    "collapsed": true
   },
   "outputs": [],
   "source": [
    "#this is gonna take FOREVER if every_nth is small\n",
    "df['date'] = pd.to_datetime(df['starttime'])"
   ]
  },
  {
   "cell_type": "code",
   "execution_count": 13,
   "metadata": {
    "collapsed": true
   },
   "outputs": [],
   "source": [
    "df['age'] = df.date.dt.year-df['birth year']"
   ]
  },
  {
   "cell_type": "markdown",
   "metadata": {},
   "source": [
    "Calculate seasons and add as a column in the dataframe."
   ]
  },
  {
   "cell_type": "code",
   "execution_count": 29,
   "metadata": {
    "collapsed": true
   },
   "outputs": [],
   "source": [
    "def season(d):\n",
    "    dwinter = pd.Timestamp('2014-12-21')\n",
    "    dspring = pd.Timestamp('2015-03-20')\n",
    "    dsummer = pd.Timestamp('2015-06-21')\n",
    "    dautumn = pd.Timestamp('2015-09-23')\n",
    "    \n",
    "    if (d < dspring) & (d >= dwinter):\n",
    "        return 'winter'\n",
    "    elif (d < dsummer) & (d >= dspring):\n",
    "        return 'spring'\n",
    "    elif (d < dautumn) & (d >= dsummer):\n",
    "        return 'summer'\n",
    "    else:\n",
    "        return 'autumn'"
   ]
  },
  {
   "cell_type": "code",
   "execution_count": 30,
   "metadata": {
    "collapsed": false
   },
   "outputs": [],
   "source": [
    "df['season'] = map(season,df.date)"
   ]
  },
  {
   "cell_type": "markdown",
   "metadata": {},
   "source": [
    "Create a view (I think, not a copy) with only Subscriber data\n"
   ]
  },
  {
   "cell_type": "code",
   "execution_count": 36,
   "metadata": {
    "collapsed": false
   },
   "outputs": [],
   "source": [
    "df1=df[df['usertype']=='Subscriber']"
   ]
  },
  {
   "cell_type": "markdown",
   "metadata": {},
   "source": [
    "Divide into 10 year age bins"
   ]
  },
  {
   "cell_type": "code",
   "execution_count": 166,
   "metadata": {
    "collapsed": false
   },
   "outputs": [
    {
     "data": {
      "text/html": [
       "<div>\n",
       "<table border=\"1\" class=\"dataframe\">\n",
       "  <thead>\n",
       "    <tr style=\"text-align: right;\">\n",
       "      <th></th>\n",
       "      <th>autumn</th>\n",
       "      <th>spring</th>\n",
       "      <th>summer</th>\n",
       "      <th>winter</th>\n",
       "    </tr>\n",
       "    <tr>\n",
       "      <th>age</th>\n",
       "      <th></th>\n",
       "      <th></th>\n",
       "      <th></th>\n",
       "      <th></th>\n",
       "    </tr>\n",
       "  </thead>\n",
       "  <tbody>\n",
       "    <tr>\n",
       "      <th>(10, 20]</th>\n",
       "      <td>329</td>\n",
       "      <td>211</td>\n",
       "      <td>350</td>\n",
       "      <td>93</td>\n",
       "    </tr>\n",
       "    <tr>\n",
       "      <th>(20, 30]</th>\n",
       "      <td>5632</td>\n",
       "      <td>5511</td>\n",
       "      <td>8561</td>\n",
       "      <td>1925</td>\n",
       "    </tr>\n",
       "    <tr>\n",
       "      <th>(30, 40]</th>\n",
       "      <td>5767</td>\n",
       "      <td>6518</td>\n",
       "      <td>9539</td>\n",
       "      <td>2280</td>\n",
       "    </tr>\n",
       "    <tr>\n",
       "      <th>(40, 50]</th>\n",
       "      <td>3873</td>\n",
       "      <td>4387</td>\n",
       "      <td>5788</td>\n",
       "      <td>1755</td>\n",
       "    </tr>\n",
       "    <tr>\n",
       "      <th>(50, 60]</th>\n",
       "      <td>2359</td>\n",
       "      <td>2821</td>\n",
       "      <td>3660</td>\n",
       "      <td>1146</td>\n",
       "    </tr>\n",
       "    <tr>\n",
       "      <th>(60, 70]</th>\n",
       "      <td>612</td>\n",
       "      <td>816</td>\n",
       "      <td>1083</td>\n",
       "      <td>344</td>\n",
       "    </tr>\n",
       "    <tr>\n",
       "      <th>(70, 80]</th>\n",
       "      <td>70</td>\n",
       "      <td>92</td>\n",
       "      <td>116</td>\n",
       "      <td>48</td>\n",
       "    </tr>\n",
       "    <tr>\n",
       "      <th>(80, 90]</th>\n",
       "      <td>0</td>\n",
       "      <td>2</td>\n",
       "      <td>2</td>\n",
       "      <td>2</td>\n",
       "    </tr>\n",
       "  </tbody>\n",
       "</table>\n",
       "</div>"
      ],
      "text/plain": [
       "          autumn  spring  summer  winter\n",
       "age                                     \n",
       "(10, 20]     329     211     350      93\n",
       "(20, 30]    5632    5511    8561    1925\n",
       "(30, 40]    5767    6518    9539    2280\n",
       "(40, 50]    3873    4387    5788    1755\n",
       "(50, 60]    2359    2821    3660    1146\n",
       "(60, 70]     612     816    1083     344\n",
       "(70, 80]      70      92     116      48\n",
       "(80, 90]       0       2       2       2"
      ]
     },
     "execution_count": 166,
     "metadata": {},
     "output_type": "execute_result"
    },
    {
     "data": {
      "image/png": "[encoded data removed]",
      "text/plain": [
       "<matplotlib.figure.Figure at 0x7ff3e9e5c490>"
      ]
     },
     "metadata": {},
     "output_type": "display_data"
    }
   ],
   "source": [
    "bins = np.arange(10, 99, 10)\n",
    "age_dist={}\n",
    "\n",
    "seasons = ['winter', 'spring', 'summer', 'autumn']\n",
    "colors = ['white', 'green', 'yellow', 'orange']\n",
    "fig, ax = pl.subplots(nrows=4, ncols=1)\n",
    "\n",
    "for i, season in enumerate(seasons):\n",
    "    df1[df1['season']==season].age.groupby(pd.cut(df1[df1['season']==season].age, bins)).size()\\\n",
    "        .plot(kind='bar', title=season, color=colors[i], ax = ax[i])\n",
    "    age_dist[season] = df1[df1['season']==season].age.groupby(pd.cut(df1[df1['season']==season].age, bins)).size()\n",
    "\n",
    "age_df = pd.DataFrame(age_dist)\n",
    "age_df.fillna(0, inplace=True)\n",
    "age_df"
   ]
  },
  {
   "cell_type": "markdown",
   "metadata": {},
   "source": [
    "The distributions look similar, and summer has much larger counts than winter (which we would expect)."
   ]
  },
  {
   "cell_type": "markdown",
   "metadata": {},
   "source": [
    "## lets run the scipy KS test"
   ]
  },
  {
   "cell_type": "code",
   "execution_count": 150,
   "metadata": {
    "collapsed": false
   },
   "outputs": [
    {
     "name": "stdout",
     "output_type": "stream",
     "text": [
      "winter, lognorm fit KS: 0.508 p-val:0.01950\n",
      "winter, cauchy fit KS: 0.868 p-val:0.00000\n",
      "winter, norm fit KS: 0.977 p-val:0.00000\n",
      "winter, poisson fit KS: 0.860 p-val:0.00000\n",
      "winter, binom fit KS: 0.875 p-val:0.00000\n",
      "winter, gamma fit KS: 0.854 p-val:0.00000\n",
      "spring, lognorm fit KS: 0.508 p-val:0.01950\n",
      "spring, cauchy fit KS: 0.872 p-val:0.00000\n",
      "spring, norm fit KS: 0.977 p-val:0.00000\n",
      "spring, poisson fit KS: 0.875 p-val:0.00000\n",
      "spring, binom fit KS: 0.875 p-val:0.00000\n",
      "spring, gamma fit KS: 0.875 p-val:0.00000\n",
      "summer, lognorm fit KS: 0.508 p-val:0.01950\n",
      "summer, cauchy fit KS: 0.872 p-val:0.00000\n",
      "summer, norm fit KS: 0.977 p-val:0.00000\n",
      "summer, poisson fit KS: 0.875 p-val:0.00000\n",
      "summer, binom fit KS: 0.875 p-val:0.00000\n",
      "summer, gamma fit KS: 0.875 p-val:0.00000\n",
      "autumn, lognorm fit KS: 0.423 p-val:0.08155\n",
      "autumn, cauchy fit KS: 0.870 p-val:0.00000\n",
      "autumn, norm fit KS: 0.875 p-val:0.00000\n",
      "autumn, poisson fit KS: 0.875 p-val:0.00000\n",
      "autumn, binom fit KS: 0.875 p-val:0.00000\n",
      "autumn, gamma fit KS: 0.875 p-val:0.00000\n"
     ]
    }
   ],
   "source": [
    "ks={}\n",
    "\n",
    "dists = {'norm': {}, \n",
    "         'cauchy': {}, \n",
    "         'poisson': {'args': (35,)}, \n",
    "         'gamma': {'args': (35,)}, \n",
    "         'binom': {'args': (10,0.2)},\n",
    "         'lognorm': {'args': (35,)}}\n",
    "\n",
    "for season in seasons:\n",
    "    ks[season] = {}\n",
    "    for dist, params in dists.iteritems():\n",
    "        ks[season][dist]=scipy.stats.kstest(age_df[season], dist, **params)\n",
    "        print \"%s, %s fit\"%(season, dist), 'KS: %.3f p-val: %.5f'%(ks[season][dist])"
   ]
  },
  {
   "cell_type": "markdown",
   "metadata": {},
   "source": [
    "The KS test rejects the null hypothesis in every case, $\\alpha = 0.05$. The lognormal has non-zero p-values, and the lognormal distribution looks closest to the histograms."
   ]
  },
  {
   "cell_type": "markdown",
   "metadata": {},
   "source": [
    "## Anderson test"
   ]
  },
  {
   "cell_type": "code",
   "execution_count": 149,
   "metadata": {
    "collapsed": false,
    "scrolled": true
   },
   "outputs": [
    {
     "name": "stdout",
     "output_type": "stream",
     "text": [
      "winter, norm fit , AD: 0.515 , crit. val.: 0.709 null NOT rejected (to 5% confidence)\n",
      "winter, expon fit , AD: 1.367 , crit. val.: 1.247 null REJECTED (to 5% confidence)\n",
      "winter, gumbel fit , AD: 0.549 , crit. val.: 0.707 null NOT rejected (to 5% confidence)\n",
      "winter, logistic fit , AD: 0.548 , crit. val.: 0.640 null NOT rejected (to 5% confidence)\n",
      "spring, norm fit , AD: 0.485 , crit. val.: 0.709 null NOT rejected (to 5% confidence)\n",
      "spring, expon fit , AD: 1.643 , crit. val.: 1.247 null REJECTED (to 5% confidence)\n",
      "spring, gumbel fit , AD: 0.528 , crit. val.: 0.707 null NOT rejected (to 5% confidence)\n",
      "spring, logistic fit , AD: 0.515 , crit. val.: 0.640 null NOT rejected (to 5% confidence)\n",
      "summer, norm fit , AD: 0.507 , crit. val.: 0.709 null NOT rejected (to 5% confidence)\n",
      "summer, expon fit , AD: 1.651 , crit. val.: 1.247 null REJECTED (to 5% confidence)\n",
      "summer, gumbel fit , AD: 0.588 , crit. val.: 0.707 null NOT rejected (to 5% confidence)\n",
      "summer, logistic fit , AD: 0.527 , crit. val.: 0.640 null NOT rejected (to 5% confidence)\n",
      "autumn, norm fit , AD: 0.558 , crit. val.: 0.709 null NOT rejected (to 5% confidence)\n",
      "autumn, expon fit , AD: inf , crit. val.: 1.247 null REJECTED (to 5% confidence)\n",
      "autumn, gumbel fit , AD: 0.650 , crit. val.: 0.707 null NOT rejected (to 5% confidence)\n",
      "autumn, logistic fit , AD: 0.576 , crit. val.: 0.640 null NOT rejected (to 5% confidence)\n"
     ]
    }
   ],
   "source": [
    "ad={}\n",
    "dists_and = ['norm', 'expon', 'gumbel', 'logistic']\n",
    "def rejectanderson(ad, crit):\n",
    "    if ad>crit:\n",
    "        return 'null REJECTED (to 5% confidence)'\n",
    "    else:\n",
    "        return 'null NOT rejected (to 5% confidence)'\n",
    "for season in seasons:\n",
    "    ad[season] = {}\n",
    "    for dist in dists_and:\n",
    "        ad[season][dist]=scipy.stats.anderson(age_df[season], dist=dist) #, **params)\n",
    "        print \"%s, %s fit\"%(season, dist), \\\n",
    "              ', AD: %.3f'%(ad[season][dist][0]), \\\n",
    "              ', crit. val.: %.3f'%(ad[season][dist][1][2]), \\\n",
    "              '%s'%(rejectanderson(ad[season][dist][0], ad[season][dist][1][2]))"
   ]
  },
  {
   "cell_type": "markdown",
   "metadata": {},
   "source": [
    "The Anderson test is only slightly less conservative. It rejects the null hypothesis that the data come from the exponential distribution for all seasons, but does not reject for all other distributions."
   ]
  }
 ],
 "metadata": {
  "kernelspec": {
   "display_name": "Python 2",
   "language": "python",
   "name": "python2"
  },
  "language_info": {
   "codemirror_mode": {
    "name": "ipython",
    "version": 2
   },
   "file_extension": ".py",
   "mimetype": "text/x-python",
   "name": "python",
   "nbconvert_exporter": "python",
   "pygments_lexer": "ipython2",
   "version": "2.7.9"
  }
 },
 "nbformat": 4,
 "nbformat_minor": 0
}
