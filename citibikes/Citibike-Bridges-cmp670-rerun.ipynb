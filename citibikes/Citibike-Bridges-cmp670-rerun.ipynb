{
 "cells": [
  {
   "cell_type": "markdown",
   "metadata": {},
   "source": [
    "# Rerun of workbook using data from other months\n",
    "\n",
    "Christopher Prince (cmp670@nyu.edu), using some code from templated file by FBB\n",
    "\n",
    "9 Oct 2015\n",
    "\n",
    "See Citibike-Bridges-cmp670.ipynb for details of how the data was parsed; this notebook has been pared down."
   ]
  },
  {
   "cell_type": "code",
   "execution_count": 1,
   "metadata": {
    "collapsed": false
   },
   "outputs": [
    {
     "name": "stdout",
     "output_type": "stream",
     "text": [
      "Populating the interactive namespace from numpy and matplotlib\n"
     ]
    }
   ],
   "source": [
    "import os\n",
    "import csv\n",
    "import pylab as pl\n",
    "import pandas as pd\n",
    "import numpy as np\n",
    "import zipfile as zf\n",
    "from IPython.display import Image\n",
    "\n",
    "%pylab inline\n",
    "pd.set_option('max_rows', 21)"
   ]
  },
  {
   "cell_type": "markdown",
   "metadata": {},
   "source": [
    "## Idea\n",
    "**Tourists are more likely than residents to ride bikes across an East River bridge... in other months too!**\n",
    "\n",
    "Assumptions: \n",
    "* We can use determine rides across a bridge by looking at the start and end stations and determining if one is in Manhattan and if the other is in Brooklyn or Queens.\n",
    "* Riders will ride one way across the bridge and not return to the borough they started in.\n",
    "* Customers are a proxy for tourists and subscribers are a proxy for residents.\n",
    "\n",
    "## Null Hypothesis\n",
    "The ratio of Customers whose journeys begin in Manhattan and end in Brooklyn or Queens (or vice versa) to total Customers $\\hat{p}_{C}$ is less than or equal to the same ratio measured for Subscribers $\\hat{p}_{S}$.\n",
    "\n",
    "$$H_{0}: \\hat{p}_{C} - \\hat{p}_{S} \\leq 0$$\n",
    "\n",
    "## Alternative Hypothesis\n",
    "The ratio of Customers whose journeys begin in Manhattan and end in Brooklyn or Queens (or vice versa) to total Customers is greater than the same ratio measured for Subscribers.\n",
    "\n",
    "$$H_{a}: \\hat{p}_{C} - \\hat{p}_{S} \\gt 0$$\n",
    "\n",
    "## Confidence level\n",
    "We choose $\\alpha = 0.05$."
   ]
  },
  {
   "cell_type": "markdown",
   "metadata": {},
   "source": [
    "## September 2015\n",
    "I start by loading the zip file containing the data for September 2015. The data file is located in my ~/data/cb directory, linked to $PUI2015/citibikes/data."
   ]
  },
  {
   "cell_type": "code",
   "execution_count": 2,
   "metadata": {
    "collapsed": false
   },
   "outputs": [],
   "source": [
    "cbcols = ['start station id', 'end station id', 'usertype']\n",
    "with zf.ZipFile(os.getenv('PUI2015') + '/citibikes/data/201509-citibike-tripdata.zip', 'r') as z:    \n",
    "    df = pd.read_csv(z.open('201509-citibike-tripdata.csv'), usecols = cbcols)"
   ]
  },
  {
   "cell_type": "markdown",
   "metadata": {
    "collapsed": false
   },
   "source": [
    "Next we load the borough data we created in the section above."
   ]
  },
  {
   "cell_type": "code",
   "execution_count": 3,
   "metadata": {
    "collapsed": true
   },
   "outputs": [],
   "source": [
    "sborough = pd.read_csv('stationlist.csv')"
   ]
  },
  {
   "cell_type": "markdown",
   "metadata": {
    "collapsed": false
   },
   "source": [
    "We use the `merge` method to bind columns to our data frame `df` from the borough data `sborough`. We join by matching the station id's. I imagine there's a method to drop a redundant id, but it will be good to verify that we used the command correctly. We merge twice, once for the 'start station id' and again for 'end station id'."
   ]
  },
  {
   "cell_type": "code",
   "execution_count": 4,
   "metadata": {
    "collapsed": false
   },
   "outputs": [
    {
     "data": {
      "text/html": [
       "<div>\n",
       "<table border=\"1\" class=\"dataframe\">\n",
       "  <thead>\n",
       "    <tr style=\"text-align: right;\">\n",
       "      <th></th>\n",
       "      <th>start station id</th>\n",
       "      <th>end station id</th>\n",
       "      <th>usertype</th>\n",
       "      <th>id_x</th>\n",
       "      <th>county_x</th>\n",
       "      <th>id_y</th>\n",
       "      <th>county_y</th>\n",
       "    </tr>\n",
       "  </thead>\n",
       "  <tbody>\n",
       "    <tr>\n",
       "      <th>0</th>\n",
       "      <td>263</td>\n",
       "      <td>307</td>\n",
       "      <td>Subscriber</td>\n",
       "      <td>263</td>\n",
       "      <td>New York County</td>\n",
       "      <td>307</td>\n",
       "      <td>New York County</td>\n",
       "    </tr>\n",
       "    <tr>\n",
       "      <th>1</th>\n",
       "      <td>495</td>\n",
       "      <td>449</td>\n",
       "      <td>Subscriber</td>\n",
       "      <td>495</td>\n",
       "      <td>New York County</td>\n",
       "      <td>449</td>\n",
       "      <td>New York County</td>\n",
       "    </tr>\n",
       "    <tr>\n",
       "      <th>2</th>\n",
       "      <td>3119</td>\n",
       "      <td>3118</td>\n",
       "      <td>Customer</td>\n",
       "      <td>3119</td>\n",
       "      <td>Queens County</td>\n",
       "      <td>3118</td>\n",
       "      <td>Kings County</td>\n",
       "    </tr>\n",
       "    <tr>\n",
       "      <th>3</th>\n",
       "      <td>536</td>\n",
       "      <td>340</td>\n",
       "      <td>Subscriber</td>\n",
       "      <td>536</td>\n",
       "      <td>New York County</td>\n",
       "      <td>340</td>\n",
       "      <td>New York County</td>\n",
       "    </tr>\n",
       "    <tr>\n",
       "      <th>4</th>\n",
       "      <td>347</td>\n",
       "      <td>483</td>\n",
       "      <td>Subscriber</td>\n",
       "      <td>347</td>\n",
       "      <td>New York County</td>\n",
       "      <td>483</td>\n",
       "      <td>New York County</td>\n",
       "    </tr>\n",
       "    <tr>\n",
       "      <th>5</th>\n",
       "      <td>2004</td>\n",
       "      <td>254</td>\n",
       "      <td>Subscriber</td>\n",
       "      <td>2004</td>\n",
       "      <td>New York County</td>\n",
       "      <td>254</td>\n",
       "      <td>New York County</td>\n",
       "    </tr>\n",
       "    <tr>\n",
       "      <th>6</th>\n",
       "      <td>173</td>\n",
       "      <td>450</td>\n",
       "      <td>Subscriber</td>\n",
       "      <td>173</td>\n",
       "      <td>New York County</td>\n",
       "      <td>450</td>\n",
       "      <td>New York County</td>\n",
       "    </tr>\n",
       "    <tr>\n",
       "      <th>7</th>\n",
       "      <td>397</td>\n",
       "      <td>3044</td>\n",
       "      <td>Customer</td>\n",
       "      <td>397</td>\n",
       "      <td>Kings County</td>\n",
       "      <td>3044</td>\n",
       "      <td>Kings County</td>\n",
       "    </tr>\n",
       "    <tr>\n",
       "      <th>8</th>\n",
       "      <td>536</td>\n",
       "      <td>476</td>\n",
       "      <td>Subscriber</td>\n",
       "      <td>536</td>\n",
       "      <td>New York County</td>\n",
       "      <td>476</td>\n",
       "      <td>New York County</td>\n",
       "    </tr>\n",
       "    <tr>\n",
       "      <th>9</th>\n",
       "      <td>397</td>\n",
       "      <td>3044</td>\n",
       "      <td>Customer</td>\n",
       "      <td>397</td>\n",
       "      <td>Kings County</td>\n",
       "      <td>3044</td>\n",
       "      <td>Kings County</td>\n",
       "    </tr>\n",
       "    <tr>\n",
       "      <th>...</th>\n",
       "      <td>...</td>\n",
       "      <td>...</td>\n",
       "      <td>...</td>\n",
       "      <td>...</td>\n",
       "      <td>...</td>\n",
       "      <td>...</td>\n",
       "      <td>...</td>\n",
       "    </tr>\n",
       "    <tr>\n",
       "      <th>1289689</th>\n",
       "      <td>382</td>\n",
       "      <td>263</td>\n",
       "      <td>Subscriber</td>\n",
       "      <td>382</td>\n",
       "      <td>New York County</td>\n",
       "      <td>263</td>\n",
       "      <td>New York County</td>\n",
       "    </tr>\n",
       "    <tr>\n",
       "      <th>1289690</th>\n",
       "      <td>397</td>\n",
       "      <td>420</td>\n",
       "      <td>Subscriber</td>\n",
       "      <td>397</td>\n",
       "      <td>Kings County</td>\n",
       "      <td>420</td>\n",
       "      <td>Kings County</td>\n",
       "    </tr>\n",
       "    <tr>\n",
       "      <th>1289691</th>\n",
       "      <td>528</td>\n",
       "      <td>507</td>\n",
       "      <td>Subscriber</td>\n",
       "      <td>528</td>\n",
       "      <td>New York County</td>\n",
       "      <td>507</td>\n",
       "      <td>New York County</td>\n",
       "    </tr>\n",
       "    <tr>\n",
       "      <th>1289692</th>\n",
       "      <td>254</td>\n",
       "      <td>490</td>\n",
       "      <td>Subscriber</td>\n",
       "      <td>254</td>\n",
       "      <td>New York County</td>\n",
       "      <td>490</td>\n",
       "      <td>New York County</td>\n",
       "    </tr>\n",
       "    <tr>\n",
       "      <th>1289693</th>\n",
       "      <td>439</td>\n",
       "      <td>251</td>\n",
       "      <td>Subscriber</td>\n",
       "      <td>439</td>\n",
       "      <td>New York County</td>\n",
       "      <td>251</td>\n",
       "      <td>New York County</td>\n",
       "    </tr>\n",
       "    <tr>\n",
       "      <th>1289694</th>\n",
       "      <td>3082</td>\n",
       "      <td>354</td>\n",
       "      <td>Customer</td>\n",
       "      <td>3082</td>\n",
       "      <td>Kings County</td>\n",
       "      <td>354</td>\n",
       "      <td>Kings County</td>\n",
       "    </tr>\n",
       "    <tr>\n",
       "      <th>1289695</th>\n",
       "      <td>3082</td>\n",
       "      <td>354</td>\n",
       "      <td>Customer</td>\n",
       "      <td>3082</td>\n",
       "      <td>Kings County</td>\n",
       "      <td>354</td>\n",
       "      <td>Kings County</td>\n",
       "    </tr>\n",
       "    <tr>\n",
       "      <th>1289696</th>\n",
       "      <td>432</td>\n",
       "      <td>476</td>\n",
       "      <td>Subscriber</td>\n",
       "      <td>432</td>\n",
       "      <td>New York County</td>\n",
       "      <td>476</td>\n",
       "      <td>New York County</td>\n",
       "    </tr>\n",
       "    <tr>\n",
       "      <th>1289697</th>\n",
       "      <td>267</td>\n",
       "      <td>3129</td>\n",
       "      <td>Subscriber</td>\n",
       "      <td>267</td>\n",
       "      <td>New York County</td>\n",
       "      <td>3129</td>\n",
       "      <td>Queens County</td>\n",
       "    </tr>\n",
       "    <tr>\n",
       "      <th>1289698</th>\n",
       "      <td>228</td>\n",
       "      <td>3176</td>\n",
       "      <td>Subscriber</td>\n",
       "      <td>228</td>\n",
       "      <td>New York County</td>\n",
       "      <td>3176</td>\n",
       "      <td>New York County</td>\n",
       "    </tr>\n",
       "  </tbody>\n",
       "</table>\n",
       "<p>1289699 rows × 7 columns</p>\n",
       "</div>"
      ],
      "text/plain": [
       "         start station id  end station id    usertype  id_x         county_x  \\\n",
       "0                     263             307  Subscriber   263  New York County   \n",
       "1                     495             449  Subscriber   495  New York County   \n",
       "2                    3119            3118    Customer  3119    Queens County   \n",
       "3                     536             340  Subscriber   536  New York County   \n",
       "4                     347             483  Subscriber   347  New York County   \n",
       "5                    2004             254  Subscriber  2004  New York County   \n",
       "6                     173             450  Subscriber   173  New York County   \n",
       "7                     397            3044    Customer   397     Kings County   \n",
       "8                     536             476  Subscriber   536  New York County   \n",
       "9                     397            3044    Customer   397     Kings County   \n",
       "...                   ...             ...         ...   ...              ...   \n",
       "1289689               382             263  Subscriber   382  New York County   \n",
       "1289690               397             420  Subscriber   397     Kings County   \n",
       "1289691               528             507  Subscriber   528  New York County   \n",
       "1289692               254             490  Subscriber   254  New York County   \n",
       "1289693               439             251  Subscriber   439  New York County   \n",
       "1289694              3082             354    Customer  3082     Kings County   \n",
       "1289695              3082             354    Customer  3082     Kings County   \n",
       "1289696               432             476  Subscriber   432  New York County   \n",
       "1289697               267            3129  Subscriber   267  New York County   \n",
       "1289698               228            3176  Subscriber   228  New York County   \n",
       "\n",
       "         id_y         county_y  \n",
       "0         307  New York County  \n",
       "1         449  New York County  \n",
       "2        3118     Kings County  \n",
       "3         340  New York County  \n",
       "4         483  New York County  \n",
       "5         254  New York County  \n",
       "6         450  New York County  \n",
       "7        3044     Kings County  \n",
       "8         476  New York County  \n",
       "9        3044     Kings County  \n",
       "...       ...              ...  \n",
       "1289689   263  New York County  \n",
       "1289690   420     Kings County  \n",
       "1289691   507  New York County  \n",
       "1289692   490  New York County  \n",
       "1289693   251  New York County  \n",
       "1289694   354     Kings County  \n",
       "1289695   354     Kings County  \n",
       "1289696   476  New York County  \n",
       "1289697  3129    Queens County  \n",
       "1289698  3176  New York County  \n",
       "\n",
       "[1289699 rows x 7 columns]"
      ]
     },
     "execution_count": 4,
     "metadata": {},
     "output_type": "execute_result"
    }
   ],
   "source": [
    "df = pd.merge(left=df, right=sborough, how='left', left_on='start station id', right_on='id')\n",
    "df = pd.merge(left=df, right=sborough, how='left', left_on='end station id', right_on='id')\n",
    "df"
   ]
  },
  {
   "cell_type": "markdown",
   "metadata": {},
   "source": [
    "The id's match for each of the rows displayed here, so it appears the merges worked as we desired.\n",
    "\n",
    "Next, create a new dataframe using our criteria for crossing a bridge. Get only rows that:\n",
    "* have start and end locations in different boroughs (counties)\n",
    "* where either start or end is in New York County (Manhattan)\n",
    "\n",
    "We do not include trips between Queens and Kings Counties since those are not rides across the East River! More likely these are hipsters going between Greenpoint and LIC. Not that there's anything wrong with that!"
   ]
  },
  {
   "cell_type": "code",
   "execution_count": 5,
   "metadata": {
    "collapsed": false
   },
   "outputs": [
    {
     "name": "stderr",
     "output_type": "stream",
     "text": [
      "/usr/local/lib/python2.7/dist-packages/pandas/core/frame.py:1825: UserWarning: Boolean Series key will be reindexed to match DataFrame index.\n",
      "  \"DataFrame index.\", UserWarning)\n"
     ]
    }
   ],
   "source": [
    "#Get rows for which:\n",
    "#               [ counties are not the same][that at least one of the counties is New York County (i.e., Manhattan) ]\n",
    "bridgerides = df[df.county_x != df.county_y][(df.county_x == 'New York County') | (df.county_y == 'New York County')]"
   ]
  },
  {
   "cell_type": "markdown",
   "metadata": {},
   "source": [
    "How frequent are rides across the bridges?"
   ]
  },
  {
   "cell_type": "code",
   "execution_count": 6,
   "metadata": {
    "collapsed": false
   },
   "outputs": [
    {
     "name": "stdout",
     "output_type": "stream",
     "text": [
      "Total rides in Aug 2015:  1289699 \n",
      "Rides across bridge:        57416 (4.45%)\n"
     ]
    }
   ],
   "source": [
    "print 'Total rides in Aug 2015: {:>8} \\n' \\\n",
    "      'Rides across bridge:     {:>8} ({:.2%})'.format(len(df), len(bridgerides), 1.*len(bridgerides)/len(df))"
   ]
  },
  {
   "cell_type": "markdown",
   "metadata": {},
   "source": [
    "A bit fewer than 1 in 20; this doesn't seem like an outrageous number.\n",
    "\n",
    "Next, we bind a new column to our original dataframe. It will be `True` if the index of the row is also contained in our subset `bridgerides`, otherwise it will be `False`. There's probably a more sophisticated way to do this without needing the intermediary `bridgerides` dataframe, but the syntax proved too tricky, for now."
   ]
  },
  {
   "cell_type": "code",
   "execution_count": 7,
   "metadata": {
    "collapsed": false
   },
   "outputs": [],
   "source": [
    "df['bridge'] = pd.Series(df.index.isin(bridgerides.index))"
   ]
  },
  {
   "cell_type": "code",
   "execution_count": 8,
   "metadata": {
    "collapsed": false
   },
   "outputs": [
    {
     "data": {
      "text/html": [
       "<div>\n",
       "<table border=\"1\" class=\"dataframe\">\n",
       "  <thead>\n",
       "    <tr style=\"text-align: right;\">\n",
       "      <th></th>\n",
       "      <th>start station id</th>\n",
       "      <th>end station id</th>\n",
       "      <th>usertype</th>\n",
       "      <th>id_x</th>\n",
       "      <th>county_x</th>\n",
       "      <th>id_y</th>\n",
       "      <th>county_y</th>\n",
       "      <th>bridge</th>\n",
       "    </tr>\n",
       "  </thead>\n",
       "  <tbody>\n",
       "    <tr>\n",
       "      <th>0</th>\n",
       "      <td>263</td>\n",
       "      <td>307</td>\n",
       "      <td>Subscriber</td>\n",
       "      <td>263</td>\n",
       "      <td>New York County</td>\n",
       "      <td>307</td>\n",
       "      <td>New York County</td>\n",
       "      <td>False</td>\n",
       "    </tr>\n",
       "    <tr>\n",
       "      <th>1</th>\n",
       "      <td>495</td>\n",
       "      <td>449</td>\n",
       "      <td>Subscriber</td>\n",
       "      <td>495</td>\n",
       "      <td>New York County</td>\n",
       "      <td>449</td>\n",
       "      <td>New York County</td>\n",
       "      <td>False</td>\n",
       "    </tr>\n",
       "    <tr>\n",
       "      <th>2</th>\n",
       "      <td>3119</td>\n",
       "      <td>3118</td>\n",
       "      <td>Customer</td>\n",
       "      <td>3119</td>\n",
       "      <td>Queens County</td>\n",
       "      <td>3118</td>\n",
       "      <td>Kings County</td>\n",
       "      <td>False</td>\n",
       "    </tr>\n",
       "    <tr>\n",
       "      <th>3</th>\n",
       "      <td>536</td>\n",
       "      <td>340</td>\n",
       "      <td>Subscriber</td>\n",
       "      <td>536</td>\n",
       "      <td>New York County</td>\n",
       "      <td>340</td>\n",
       "      <td>New York County</td>\n",
       "      <td>False</td>\n",
       "    </tr>\n",
       "    <tr>\n",
       "      <th>4</th>\n",
       "      <td>347</td>\n",
       "      <td>483</td>\n",
       "      <td>Subscriber</td>\n",
       "      <td>347</td>\n",
       "      <td>New York County</td>\n",
       "      <td>483</td>\n",
       "      <td>New York County</td>\n",
       "      <td>False</td>\n",
       "    </tr>\n",
       "    <tr>\n",
       "      <th>5</th>\n",
       "      <td>2004</td>\n",
       "      <td>254</td>\n",
       "      <td>Subscriber</td>\n",
       "      <td>2004</td>\n",
       "      <td>New York County</td>\n",
       "      <td>254</td>\n",
       "      <td>New York County</td>\n",
       "      <td>False</td>\n",
       "    </tr>\n",
       "    <tr>\n",
       "      <th>6</th>\n",
       "      <td>173</td>\n",
       "      <td>450</td>\n",
       "      <td>Subscriber</td>\n",
       "      <td>173</td>\n",
       "      <td>New York County</td>\n",
       "      <td>450</td>\n",
       "      <td>New York County</td>\n",
       "      <td>False</td>\n",
       "    </tr>\n",
       "    <tr>\n",
       "      <th>7</th>\n",
       "      <td>397</td>\n",
       "      <td>3044</td>\n",
       "      <td>Customer</td>\n",
       "      <td>397</td>\n",
       "      <td>Kings County</td>\n",
       "      <td>3044</td>\n",
       "      <td>Kings County</td>\n",
       "      <td>False</td>\n",
       "    </tr>\n",
       "    <tr>\n",
       "      <th>8</th>\n",
       "      <td>536</td>\n",
       "      <td>476</td>\n",
       "      <td>Subscriber</td>\n",
       "      <td>536</td>\n",
       "      <td>New York County</td>\n",
       "      <td>476</td>\n",
       "      <td>New York County</td>\n",
       "      <td>False</td>\n",
       "    </tr>\n",
       "    <tr>\n",
       "      <th>9</th>\n",
       "      <td>397</td>\n",
       "      <td>3044</td>\n",
       "      <td>Customer</td>\n",
       "      <td>397</td>\n",
       "      <td>Kings County</td>\n",
       "      <td>3044</td>\n",
       "      <td>Kings County</td>\n",
       "      <td>False</td>\n",
       "    </tr>\n",
       "    <tr>\n",
       "      <th>...</th>\n",
       "      <td>...</td>\n",
       "      <td>...</td>\n",
       "      <td>...</td>\n",
       "      <td>...</td>\n",
       "      <td>...</td>\n",
       "      <td>...</td>\n",
       "      <td>...</td>\n",
       "      <td>...</td>\n",
       "    </tr>\n",
       "    <tr>\n",
       "      <th>1289689</th>\n",
       "      <td>382</td>\n",
       "      <td>263</td>\n",
       "      <td>Subscriber</td>\n",
       "      <td>382</td>\n",
       "      <td>New York County</td>\n",
       "      <td>263</td>\n",
       "      <td>New York County</td>\n",
       "      <td>False</td>\n",
       "    </tr>\n",
       "    <tr>\n",
       "      <th>1289690</th>\n",
       "      <td>397</td>\n",
       "      <td>420</td>\n",
       "      <td>Subscriber</td>\n",
       "      <td>397</td>\n",
       "      <td>Kings County</td>\n",
       "      <td>420</td>\n",
       "      <td>Kings County</td>\n",
       "      <td>False</td>\n",
       "    </tr>\n",
       "    <tr>\n",
       "      <th>1289691</th>\n",
       "      <td>528</td>\n",
       "      <td>507</td>\n",
       "      <td>Subscriber</td>\n",
       "      <td>528</td>\n",
       "      <td>New York County</td>\n",
       "      <td>507</td>\n",
       "      <td>New York County</td>\n",
       "      <td>False</td>\n",
       "    </tr>\n",
       "    <tr>\n",
       "      <th>1289692</th>\n",
       "      <td>254</td>\n",
       "      <td>490</td>\n",
       "      <td>Subscriber</td>\n",
       "      <td>254</td>\n",
       "      <td>New York County</td>\n",
       "      <td>490</td>\n",
       "      <td>New York County</td>\n",
       "      <td>False</td>\n",
       "    </tr>\n",
       "    <tr>\n",
       "      <th>1289693</th>\n",
       "      <td>439</td>\n",
       "      <td>251</td>\n",
       "      <td>Subscriber</td>\n",
       "      <td>439</td>\n",
       "      <td>New York County</td>\n",
       "      <td>251</td>\n",
       "      <td>New York County</td>\n",
       "      <td>False</td>\n",
       "    </tr>\n",
       "    <tr>\n",
       "      <th>1289694</th>\n",
       "      <td>3082</td>\n",
       "      <td>354</td>\n",
       "      <td>Customer</td>\n",
       "      <td>3082</td>\n",
       "      <td>Kings County</td>\n",
       "      <td>354</td>\n",
       "      <td>Kings County</td>\n",
       "      <td>False</td>\n",
       "    </tr>\n",
       "    <tr>\n",
       "      <th>1289695</th>\n",
       "      <td>3082</td>\n",
       "      <td>354</td>\n",
       "      <td>Customer</td>\n",
       "      <td>3082</td>\n",
       "      <td>Kings County</td>\n",
       "      <td>354</td>\n",
       "      <td>Kings County</td>\n",
       "      <td>False</td>\n",
       "    </tr>\n",
       "    <tr>\n",
       "      <th>1289696</th>\n",
       "      <td>432</td>\n",
       "      <td>476</td>\n",
       "      <td>Subscriber</td>\n",
       "      <td>432</td>\n",
       "      <td>New York County</td>\n",
       "      <td>476</td>\n",
       "      <td>New York County</td>\n",
       "      <td>False</td>\n",
       "    </tr>\n",
       "    <tr>\n",
       "      <th>1289697</th>\n",
       "      <td>267</td>\n",
       "      <td>3129</td>\n",
       "      <td>Subscriber</td>\n",
       "      <td>267</td>\n",
       "      <td>New York County</td>\n",
       "      <td>3129</td>\n",
       "      <td>Queens County</td>\n",
       "      <td>True</td>\n",
       "    </tr>\n",
       "    <tr>\n",
       "      <th>1289698</th>\n",
       "      <td>228</td>\n",
       "      <td>3176</td>\n",
       "      <td>Subscriber</td>\n",
       "      <td>228</td>\n",
       "      <td>New York County</td>\n",
       "      <td>3176</td>\n",
       "      <td>New York County</td>\n",
       "      <td>False</td>\n",
       "    </tr>\n",
       "  </tbody>\n",
       "</table>\n",
       "<p>1289699 rows × 8 columns</p>\n",
       "</div>"
      ],
      "text/plain": [
       "         start station id  end station id    usertype  id_x         county_x  \\\n",
       "0                     263             307  Subscriber   263  New York County   \n",
       "1                     495             449  Subscriber   495  New York County   \n",
       "2                    3119            3118    Customer  3119    Queens County   \n",
       "3                     536             340  Subscriber   536  New York County   \n",
       "4                     347             483  Subscriber   347  New York County   \n",
       "5                    2004             254  Subscriber  2004  New York County   \n",
       "6                     173             450  Subscriber   173  New York County   \n",
       "7                     397            3044    Customer   397     Kings County   \n",
       "8                     536             476  Subscriber   536  New York County   \n",
       "9                     397            3044    Customer   397     Kings County   \n",
       "...                   ...             ...         ...   ...              ...   \n",
       "1289689               382             263  Subscriber   382  New York County   \n",
       "1289690               397             420  Subscriber   397     Kings County   \n",
       "1289691               528             507  Subscriber   528  New York County   \n",
       "1289692               254             490  Subscriber   254  New York County   \n",
       "1289693               439             251  Subscriber   439  New York County   \n",
       "1289694              3082             354    Customer  3082     Kings County   \n",
       "1289695              3082             354    Customer  3082     Kings County   \n",
       "1289696               432             476  Subscriber   432  New York County   \n",
       "1289697               267            3129  Subscriber   267  New York County   \n",
       "1289698               228            3176  Subscriber   228  New York County   \n",
       "\n",
       "         id_y         county_y bridge  \n",
       "0         307  New York County  False  \n",
       "1         449  New York County  False  \n",
       "2        3118     Kings County  False  \n",
       "3         340  New York County  False  \n",
       "4         483  New York County  False  \n",
       "5         254  New York County  False  \n",
       "6         450  New York County  False  \n",
       "7        3044     Kings County  False  \n",
       "8         476  New York County  False  \n",
       "9        3044     Kings County  False  \n",
       "...       ...              ...    ...  \n",
       "1289689   263  New York County  False  \n",
       "1289690   420     Kings County  False  \n",
       "1289691   507  New York County  False  \n",
       "1289692   490  New York County  False  \n",
       "1289693   251  New York County  False  \n",
       "1289694   354     Kings County  False  \n",
       "1289695   354     Kings County  False  \n",
       "1289696   476  New York County  False  \n",
       "1289697  3129    Queens County   True  \n",
       "1289698  3176  New York County  False  \n",
       "\n",
       "[1289699 rows x 8 columns]"
      ]
     },
     "execution_count": 8,
     "metadata": {},
     "output_type": "execute_result"
    }
   ],
   "source": [
    "df"
   ]
  },
  {
   "cell_type": "markdown",
   "metadata": {},
   "source": [
    "## Plots"
   ]
  },
  {
   "cell_type": "code",
   "execution_count": 9,
   "metadata": {
    "collapsed": false,
    "scrolled": false
   },
   "outputs": [
    {
     "data": {
      "text/plain": [
       "<matplotlib.legend.Legend at 0x7f892ae57b50>"
      ]
     },
     "execution_count": 9,
     "metadata": {},
     "output_type": "execute_result"
    },
    {
     "data": {
      "image/png": "[encoded data removed]",
      "text/plain": [
       "<matplotlib.figure.Figure at 0x7f892ae57c50>"
      ]
     },
     "metadata": {},
     "output_type": "display_data"
    }
   ],
   "source": [
    "counts_c = df['bridge'][df.usertype == 'Customer'].groupby(df['bridge']).count()\n",
    "error_c = np.sqrt(counts_c)\n",
    "counts_s = df['bridge'][df.usertype == 'Subscriber'].groupby(df['bridge']).count()\n",
    "error_s = np.sqrt(counts_s)\n",
    "\n",
    "counts_c.plot(kind = 'bar', yerr = [error_c, error_c], color='green', alpha=0.5, label = 'Customer rides')\n",
    "ax = counts_s.plot(kind = 'bar', yerr = [error_s, error_s], color='orange', alpha=0.5, label = 'Subscriber rides')\n",
    "ax.legend()"
   ]
  },
  {
   "cell_type": "markdown",
   "metadata": {},
   "source": [
    "We also want to see the proportions of rides, so we normalize with respect to the total counts for each `usertype`."
   ]
  },
  {
   "cell_type": "code",
   "execution_count": 10,
   "metadata": {
    "collapsed": false
   },
   "outputs": [
    {
     "data": {
      "text/plain": [
       "<matplotlib.legend.Legend at 0x7f892ae57590>"
      ]
     },
     "execution_count": 10,
     "metadata": {},
     "output_type": "execute_result"
    },
    {
     "data": {
      "image/png": "[encoded data removed]",
      "text/plain": [
       "<matplotlib.figure.Figure at 0x7f892ae57650>"
      ]
     },
     "metadata": {},
     "output_type": "display_data"
    }
   ],
   "source": [
    "norm_c = counts_c.sum()\n",
    "norm_s = counts_s.sum()\n",
    "\n",
    "((counts_c)/norm_c).plot(kind = 'bar', yerr = [(error_c)/norm_c, (error_c)/norm_c], \n",
    "                         color='green', alpha=0.5, label = 'Customer rides')\n",
    "ax = ((counts_s)/norm_s).plot(kind = 'bar', yerr = [(error_s)/norm_s, (error_s)/norm_s], \n",
    "                              color='orange', alpha=0.5, label = 'Subscriber rides')\n",
    "ax.legend()"
   ]
  },
  {
   "cell_type": "markdown",
   "metadata": {},
   "source": [
    "## $z$-test\n",
    "\n",
    "Now, we calculate the relative proportions and errors for the terms we need to evaluate our null hypothesis, $\\hat{p}_{C}$ and $\\hat{p}_{S}$ (in the code, this is `bridge_c` and `bridge_s`.)"
   ]
  },
  {
   "cell_type": "code",
   "execution_count": 11,
   "metadata": {
    "collapsed": false
   },
   "outputs": [
    {
     "name": "stdout",
     "output_type": "stream",
     "text": [
      "0.0765800282713 0.923419971729 0.000603722692549 0.00209642519642\n",
      "0.0382792758746 0.961720724125 0.000188300740541 0.00094383191484\n",
      "0.0765800282713 0.0382792758746 0.0445189148786 0.000491787429874 77.8807063177\n"
     ]
    },
    {
     "data": {
      "image/png": "[encoded data removed]",
      "text/plain": [
       "<matplotlib.figure.Figure at 0x7f8928e694d0>"
      ]
     },
     "metadata": {},
     "output_type": "display_data"
    }
   ],
   "source": [
    "fig = pl.figure(figsize(8,6))\n",
    "ax1=fig.add_subplot(121)\n",
    "ax2=fig.add_subplot(122)\n",
    "ax1.set_xticks([])\n",
    "ax2.set_xticks([])\n",
    "bridge_c = counts_c[True]*1.0/norm_c\n",
    "nobridge_c = counts_c[False]*1.0/norm_c\n",
    "errbridge_c = error_c[True]*1.0/norm_c\n",
    "errnobridge_c = error_c[False]*1.0/norm_c\n",
    "\n",
    "bridge_s = counts_s[True]*1.0/norm_s\n",
    "nobridge_s = counts_s[False]*1.0/norm_s\n",
    "errbridge_s = error_s[True]*1.0/norm_s\n",
    "errnobridge_s = error_s[False]*1.0/norm_s\n",
    "\n",
    "print bridge_c, nobridge_c, errbridge_c, errnobridge_c\n",
    "print bridge_s, nobridge_s, errbridge_s, errnobridge_s\n",
    "\n",
    "ax1.errorbar([0.2],[bridge_c], yerr=[errbridge_c], fmt='o', label='Customers')\n",
    "ax1.errorbar([0.4],[bridge_s], yerr=[errbridge_s], fmt='o', label='Subscribers')\n",
    "ax1.text(0, 1, 'proportion bridge riders', transform = ax1.transAxes, size = 14)\n",
    "ax1.set_xlim(0,0.6)\n",
    "ax2.errorbar([0.2],[nobridge_c], yerr=[errnobridge_c], fmt='o', label='Customers')\n",
    "ax2.errorbar([0.4],[nobridge_s], yerr=[errnobridge_s], fmt='o', label='Subscribers')\n",
    "ax2.text(0, 1, 'proportion non-bridge riders', transform = ax2.transAxes, size = 14)\n",
    "ax2.set_xlim(0,0.6)\n",
    "pl.legend(loc='best', fontsize = 14)\n",
    "\n",
    "p = (bridge_c*norm_c + bridge_s*norm_s)*1.0/ (norm_c + norm_s)\n",
    "SE = np.sqrt(p * ( 1. - p ) * ( (1./norm_c) + (1./norm_s) ) )\n",
    "z = (bridge_c - bridge_s ) / SE\n",
    "print bridge_c, bridge_s, p,SE,z"
   ]
  },
  {
   "cell_type": "markdown",
   "metadata": {},
   "source": [
    "What is the difference in proportions $\\hat{p}_{C} - \\hat{p}_{S}$?"
   ]
  },
  {
   "cell_type": "code",
   "execution_count": 12,
   "metadata": {
    "collapsed": false
   },
   "outputs": [
    {
     "name": "stdout",
     "output_type": "stream",
     "text": [
      "0.0383007523967\n"
     ]
    }
   ],
   "source": [
    "Pc_Ps = bridge_c - bridge_s\n",
    "print Pc_Ps"
   ]
  },
  {
   "cell_type": "code",
   "execution_count": 13,
   "metadata": {
    "collapsed": false
   },
   "outputs": [
    {
     "name": "stdout",
     "output_type": "stream",
     "text": [
      "149.651040778\n"
     ]
    }
   ],
   "source": [
    "sp_stdev= lambda p0, n1: np.sqrt(p0*(1-p0)/n1)\n",
    "sp_stdev_cs=sp_stdev(bridge_c,norm_s)\n",
    "\n",
    "zscore = lambda p0, p1, s : (p0-p1)/s\n",
    "z = zscore(bridge_c, bridge_s, sp_stdev_cs)\n",
    "print z "
   ]
  },
  {
   "cell_type": "markdown",
   "metadata": {},
   "source": [
    "It is not necessary to check a table to determine that a value 149 standard deviations away has statistical significance! **Thus we reject the null hypothesis. If our assumptions hold, this implies that tourists *are* more likely to ride across the East River bridges than residents!** \n",
    "\n",
    "### $\\chi^{2}$ test\n",
    "\n",
    "Now let's use the $\\chi^{2}$ test. To fill in the contingency table, we need to recall the counts for each of the four cells of the table:"
   ]
  },
  {
   "cell_type": "code",
   "execution_count": 14,
   "metadata": {
    "collapsed": false
   },
   "outputs": [
    {
     "name": "stdout",
     "output_type": "stream",
     "text": [
      "customers:\n",
      "bridge\n",
      "False    194017\n",
      "True      16090\n",
      "Name: bridge, dtype: int64 \n",
      "\n",
      "subscribers:\n",
      "bridge\n",
      "False    1038266\n",
      "True       41326\n",
      "Name: bridge, dtype: int64\n",
      "3121733530 3121733530\n",
      "210107 1079592 1289699\n"
     ]
    }
   ],
   "source": [
    "print 'customers:\\n', counts_c, '\\n'*2, 'subscribers:\\n', counts_s\n",
    "print counts_c.product(), 194017*16090\n",
    "print counts_c.sum(), counts_s.sum(), counts_c.sum()+counts_s.sum()"
   ]
  },
  {
   "cell_type": "markdown",
   "metadata": {
    "collapsed": true
   },
   "source": [
    "| Rode across the bridge:   |     True   | False   |                   total\n",
    "|---------------------------|----------------|------------------|---------------------------|\n",
    "| Customers                 |  17797  |  203119    | 220996                       |\n",
    "| Subscribers               |  35602  |  922446    | 958048                       |\n",
    "|                           |                |                  |                           |\n",
    "| total                     |  53399      |  1125565         | **1178964**         |"
   ]
  },
  {
   "cell_type": "markdown",
   "metadata": {
    "collapsed": false
   },
   "source": [
    "Now we calculate $\\chi^{2}$ using the formula for a 2 $\\times$ 2 contingency table:"
   ]
  },
  {
   "cell_type": "code",
   "execution_count": 15,
   "metadata": {
    "collapsed": false
   },
   "outputs": [
    {
     "name": "stdout",
     "output_type": "stream",
     "text": [
      "6065.40441654\n"
     ]
    }
   ],
   "source": [
    "Ntot = 1289699\n",
    "expected = (16090+41326)*(194017+1038266)*210107*1079592*1.0\n",
    "sample_values = [[16090,194017],[41326,1038266]]\n",
    "\n",
    "chisqstat= lambda N, values, expect : ((values[0][0]*values[1][1]-values[0][1]*values[1][0])**2)/(expect)*N\n",
    "\n",
    "print chisqstat(Ntot, sample_values, expected)"
   ]
  },
  {
   "cell_type": "markdown",
   "metadata": {},
   "source": [
    "This value is much, much larger than the $df = 1, \\alpha = 0.05$ value of 3.84, so **we can (again) reject the null hypothesis.**"
   ]
  },
  {
   "cell_type": "code",
   "execution_count": 16,
   "metadata": {
    "collapsed": false
   },
   "outputs": [
    {
     "data": {
      "text/plain": [
       "6064.5040392673436"
      ]
     },
     "execution_count": 16,
     "metadata": {},
     "output_type": "execute_result"
    }
   ],
   "source": [
    "from scipy.stats import chi2_contingency\n",
    "chi2_contingency([[counts_c[True], counts_c[False]],[counts_s[True],counts_s[False]]])[0]"
   ]
  }
 ],
 "metadata": {
  "kernelspec": {
   "display_name": "Python 2",
   "language": "python",
   "name": "python2"
  },
  "language_info": {
   "codemirror_mode": {
    "name": "ipython",
    "version": 2
   },
   "file_extension": ".py",
   "mimetype": "text/x-python",
   "name": "python",
   "nbconvert_exporter": "python",
   "pygments_lexer": "ipython2",
   "version": "2.7.9"
  }
 },
 "nbformat": 4,
 "nbformat_minor": 0
}
